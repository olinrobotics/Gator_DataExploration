{
 "metadata": {
  "name": ""
 },
 "nbformat": 3,
 "nbformat_minor": 0,
 "worksheets": [
  {
   "cells": [
    {
     "cell_type": "code",
     "collapsed": false,
     "input": [
      "#matplotlib inline"
     ],
     "language": "python",
     "metadata": {},
     "outputs": [],
     "prompt_number": 1
    },
    {
     "cell_type": "code",
     "collapsed": false,
     "input": [
      "from os import listdir\n",
      "from os.path import isfile, join\n",
      "import DataPipeline as dp\n",
      "import pylab as plt\n",
      "import numpy as np\n",
      "\n",
      "dir_path=\"10-25_Data/Numbers\"\n",
      "\n",
      "data_files = [ f for f in listdir(dir_path) if isfile(join(dir_path,f)) ]\n",
      "plot_num=0\n",
      "subplot_num=0 #REMOVE WHEN DOING ALL LIDARS AND AXES\n",
      "for filename in data_files:\n",
      "    \n",
      "    plt.figure(plot_num)\n",
      "    \n",
      "    fp=dir_path + '/' + filename\n",
      "    data_dict=dp.ProcessData(fp)\n",
      "    \n",
      "    lidars=['left']#, 'right']\n",
      "    axes=['x']#, 'y', 'z']\n",
      "    #subplot_num=0\n",
      "    \n",
      "    for lidar in lidars:\n",
      "        for axis in axes:\n",
      "            \n",
      "            plt.subplot(5,4,subplot_num)\n",
      "            \n",
      "            for key in data_dict.keys():\n",
      "                scan_obj=data_dict[key]\n",
      "                freq,fft=scan_obj.PlotFFT(lidar, axis, False)\n",
      "                plt.plot(freq, np.abs(fft))\n",
      "            \n",
      "            plot_title=filename#lidar+\" lidar, \"+axis+\" values in terrain \"+filename\n",
      "            print plot_title\n",
      "            plt.title(plot_title)    \n",
      "            \n",
      "            subplot_num+=1\n",
      "            \n",
      "    #plot_num+=1\n",
      "    \n",
      "plt.show()\n",
      "    "
     ],
     "language": "python",
     "metadata": {},
     "outputs": [
      {
       "output_type": "stream",
       "stream": "stdout",
       "text": [
        "grass1.csv\n",
        "rockpatch2.csv"
       ]
      },
      {
       "output_type": "stream",
       "stream": "stdout",
       "text": [
        "\n",
        "rockpatch_pre1.csv"
       ]
      },
      {
       "output_type": "stream",
       "stream": "stdout",
       "text": [
        "\n",
        "shrubs2.csv"
       ]
      },
      {
       "output_type": "stream",
       "stream": "stdout",
       "text": [
        "\n",
        "rockpatch_post2.csv"
       ]
      },
      {
       "output_type": "stream",
       "stream": "stdout",
       "text": [
        "\n",
        "rockpatch_post3.csv"
       ]
      },
      {
       "output_type": "stream",
       "stream": "stdout",
       "text": [
        "\n",
        "test1.csv"
       ]
      },
      {
       "output_type": "stream",
       "stream": "stdout",
       "text": [
        "\n",
        "rockpatch_post1.csv"
       ]
      },
      {
       "output_type": "stream",
       "stream": "stdout",
       "text": [
        "\n",
        "rockpatch1.csv"
       ]
      },
      {
       "output_type": "stream",
       "stream": "stdout",
       "text": [
        "\n",
        "woods1.csv"
       ]
      },
      {
       "output_type": "stream",
       "stream": "stdout",
       "text": [
        "\n",
        "grass3.csv"
       ]
      },
      {
       "output_type": "stream",
       "stream": "stdout",
       "text": [
        "\n",
        "rockpatch_pre3.csv"
       ]
      },
      {
       "output_type": "stream",
       "stream": "stdout",
       "text": [
        "\n",
        "dirt1.csv"
       ]
      },
      {
       "output_type": "stream",
       "stream": "stdout",
       "text": [
        "\n",
        "shrubs1.csv"
       ]
      },
      {
       "output_type": "stream",
       "stream": "stdout",
       "text": [
        "\n",
        "rockpatch_pre2.csv"
       ]
      },
      {
       "output_type": "stream",
       "stream": "stdout",
       "text": [
        "\n",
        "messpatch1.csv"
       ]
      },
      {
       "output_type": "stream",
       "stream": "stdout",
       "text": [
        "\n",
        "dirt3.csv"
       ]
      },
      {
       "output_type": "stream",
       "stream": "stdout",
       "text": [
        "\n",
        "dirt2.csv"
       ]
      },
      {
       "output_type": "stream",
       "stream": "stdout",
       "text": [
        "\n",
        "grass2.csv"
       ]
      }
     ],
     "prompt_number": "*"
    }
   ],
   "metadata": {}
  }
 ]
}