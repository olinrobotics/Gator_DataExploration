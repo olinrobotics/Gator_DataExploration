{
 "cells": [
  {
   "cell_type": "code",
   "execution_count": 1,
   "metadata": {
    "collapsed": false
   },
   "outputs": [],
   "source": [
    "#matplotlib inline"
   ]
  },
  {
   "cell_type": "code",
   "execution_count": null,
   "metadata": {
    "collapsed": false
   },
   "outputs": [],
   "source": [
    "from os import listdir\n",
    "from os.path import isfile, join\n",
    "import DataPipeline as dp\n",
    "import pylab as plt\n",
    "import numpy as np\n",
    "\n",
    "dir_path=\"10-25_Data/Numbers\"\n",
    "\n",
    "data_files = [ f for f in listdir(dir_path) if isfile(join(dir_path,f)) ]\n",
    "plot_num=0\n",
    "subplot_num=0 #REMOVE WHEN DOING ALL LIDARS AND AXES\n",
    "for filename in data_files:\n",
    "    \n",
    "    plt.figure(plot_num)\n",
    "    \n",
    "    fp=dir_path + '/' + filename\n",
    "    data_dict=dp.ProcessData(fp)\n",
    "    \n",
    "    lidars=['left']#, 'right']\n",
    "    axes=['z']#, 'y', 'z']\n",
    "    #subplot_num=0\n",
    "    \n",
    "    for lidar in lidars:\n",
    "        for axis in axes:\n",
    "            \n",
    "            plt.subplot(5,4,subplot_num)\n",
    "            \n",
    "            for key in data_dict.keys():\n",
    "                scan_obj=data_dict[key]\n",
    "                freq,fft=scan_obj.PlotFFT(lidar, axis, False)\n",
    "                plt.plot(freq, np.abs(fft))\n",
    "            \n",
    "            plot_title=filename#lidar+\" lidar, \"+axis+\" values in terrain \"+filename\n",
    "            print plot_title\n",
    "            plt.title(plot_title)    \n",
    "            \n",
    "            subplot_num+=1\n",
    "            \n",
    "    #plot_num+=1\n",
    "    \n",
    "plt.show()\n",
    "    "
   ]
  }
 ],
 "metadata": {
  "kernelspec": {
   "display_name": "Python 2",
   "language": "python",
   "name": "python2"
  },
  "language_info": {
   "codemirror_mode": {
    "name": "ipython",
    "version": 2
   },
   "file_extension": ".py",
   "mimetype": "text/x-python",
   "name": "python",
   "nbconvert_exporter": "python",
   "pygments_lexer": "ipython2",
   "version": "2.7.10"
  }
 },
 "nbformat": 4,
 "nbformat_minor": 0
}
