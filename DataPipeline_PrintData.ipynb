{
 "cells": [
  {
   "cell_type": "code",
   "execution_count": 1,
   "metadata": {
    "collapsed": true
   },
   "outputs": [],
   "source": [
    "#matplotlib inline"
   ]
  },
  {
   "cell_type": "code",
   "execution_count": 2,
   "metadata": {
    "collapsed": false
   },
   "outputs": [],
   "source": [
    "import DataPipeline as dp\n",
    "import pylab as plt\n",
    "import matplotlib.pyplot as p\n",
    "from mpl_toolkits.mplot3d import Axes3D\n",
    "\n",
    "#fig = plt.figure()\n",
    "#ax = fig.add_subplot(111, projection='3d')\n",
    "\n",
    "fp='10-25_Data/Numbers/rockpatch2.csv'\n",
    "\n",
    "data_dict=dp.ProcessData(fp)"
   ]
  },
  {
   "cell_type": "code",
   "execution_count": 3,
   "metadata": {
    "collapsed": false
   },
   "outputs": [],
   "source": [
    "left_data_tuples = data_dict[1].left\n",
    "right_data_tuples = data_dict[1].right"
   ]
  },
  {
   "cell_type": "code",
   "execution_count": 4,
   "metadata": {
    "collapsed": false
   },
   "outputs": [],
   "source": [
    "cleaned_left_data_tuples=[]\n",
    "cleaned_right_data_tuples=[]\n",
    "\n",
    "for left_data in left_data_tuples:\n",
    "    if left_data[1]>=-37 and left_data[1]<=37:\n",
    "        cleaned_left_data_tuples.append(left_data)\n",
    "\n",
    "for right_data in right_data_tuples:\n",
    "    if right_data[1]>=-37 and right_data[1]<=37:\n",
    "        cleaned_right_data_tuples.append(right_data)"
   ]
  },
  {
   "cell_type": "code",
   "execution_count": null,
   "metadata": {
    "collapsed": false
   },
   "outputs": [
    {
     "name": "stdout",
     "output_type": "stream",
     "text": [
      "22\n",
      "19\n"
     ]
    }
   ],
   "source": [
    "leftx,lefty,leftz=zip(*cleaned_left_data_tuples)\n",
    "rightx,righty,rightz=zip(*cleaned_right_data_tuples)\n",
    "\n",
    "print len(leftx)\n",
    "print len(righty)"
   ]
  },
  {
   "cell_type": "code",
   "execution_count": null,
   "metadata": {
    "collapsed": false
   },
   "outputs": [],
   "source": [
    "fig = plt.figure()\n",
    "ax = fig.add_subplot(111, projection='3d')\n",
    "ax.scatter(leftx,lefty,leftz, c='c', marker='o')\n",
    "ax.scatter(rightx,righty,rightz, c='r', marker='o')\n",
    "p.show()"
   ]
  }
 ],
 "metadata": {
  "kernelspec": {
   "display_name": "Python 2",
   "language": "python",
   "name": "python2"
  },
  "language_info": {
   "codemirror_mode": {
    "name": "ipython",
    "version": 2
   },
   "file_extension": ".py",
   "mimetype": "text/x-python",
   "name": "python",
   "nbconvert_exporter": "python",
   "pygments_lexer": "ipython2",
   "version": "2.7.10"
  }
 },
 "nbformat": 4,
 "nbformat_minor": 0
}
