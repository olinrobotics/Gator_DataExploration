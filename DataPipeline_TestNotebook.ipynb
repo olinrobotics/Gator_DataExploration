{
 "metadata": {
  "name": ""
 },
 "nbformat": 3,
 "nbformat_minor": 0,
 "worksheets": [
  {
   "cells": [
    {
     "cell_type": "code",
     "collapsed": false,
     "input": [
      "import DataPipeline as dp\n",
      "\n",
      "fp='10-25_Data/Numbers/rockpatch_pre3.csv'\n",
      "\n",
      "data_dict=dp.ProcessData(fp)"
     ],
     "language": "python",
     "metadata": {},
     "outputs": [],
     "prompt_number": 6
    },
    {
     "cell_type": "code",
     "collapsed": false,
     "input": [
      "print data_dict[0]"
     ],
     "language": "python",
     "metadata": {},
     "outputs": [
      {
       "output_type": "stream",
       "stream": "stdout",
       "text": [
        "<ScanClassDef.Scan instance at 0x7f418fc77758>\n"
       ]
      }
     ],
     "prompt_number": 2
    }
   ],
   "metadata": {}
  }
 ]
}